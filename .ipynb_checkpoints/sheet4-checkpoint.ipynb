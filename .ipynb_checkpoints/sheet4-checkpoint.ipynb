{
 "cells": [
  {
   "cell_type": "code",
   "execution_count": 1,
   "id": "a557c9f1-47ab-4a00-bd7f-c9e8bf5371d4",
   "metadata": {},
   "outputs": [],
   "source": [
    "import pandas as pd"
   ]
  },
  {
   "cell_type": "code",
   "execution_count": 2,
   "id": "7f5fa448-c000-423c-9133-a368b0b7a856",
   "metadata": {},
   "outputs": [],
   "source": [
    "df_dota = pd.read_excel(\"DB_DOTA_Filtered_by_COMERCIOS.xlsx\")"
   ]
  },
  {
   "cell_type": "code",
   "execution_count": 3,
   "id": "27261f9d-4874-4e88-871b-d73c2a154593",
   "metadata": {},
   "outputs": [],
   "source": [
    "df_fd = pd.read_excel(\"FD_Report_Normalized.xlsx\")"
   ]
  },
  {
   "cell_type": "code",
   "execution_count": 4,
   "id": "c04a436c-5633-4860-92cb-0e2333563bd0",
   "metadata": {},
   "outputs": [],
   "source": [
    "df_dota['MOV_CREATION_DATE'] = pd.to_datetime(df_dota['MOV_CREATION_DATE'])"
   ]
  },
  {
   "cell_type": "code",
   "execution_count": 5,
   "id": "306a5885-dd7d-4c0b-b057-346e8d2a2c9e",
   "metadata": {},
   "outputs": [],
   "source": [
    "df_fd['FORIG_COMPRA'] = pd.to_datetime(df_fd['FORIG_COMPRA'])\n"
   ]
  },
  {
   "cell_type": "code",
   "execution_count": 6,
   "id": "8a6cf23c-3317-424b-8b7a-a2719621c12a",
   "metadata": {},
   "outputs": [],
   "source": [
    "df_dota['MOV_AMOUNT'] = df_dota['MOV_AMOUNT'].astype(float)"
   ]
  },
  {
   "cell_type": "code",
   "execution_count": 7,
   "id": "5521bca2-74c0-40fa-959a-1b8d2bfe51e9",
   "metadata": {},
   "outputs": [],
   "source": [
    "df_fd['IMPORTE'] = df_fd['IMPORTE'].astype(float)"
   ]
  },
  {
   "cell_type": "code",
   "execution_count": 8,
   "id": "b64afad4-d794-4059-8394-a6393b619a58",
   "metadata": {},
   "outputs": [],
   "source": [
    "for col in ['GTWT_MERCHANT_NUMBER', 'CARD_SIX_FIRST_DIGITS', 'CARD_FOUR_LAST_DIGITS']:\n",
    "    df_dota[col] = df_dota[col].astype(str).str.strip()\n"
   ]
  },
  {
   "cell_type": "code",
   "execution_count": 9,
   "id": "57a49a29-7ed3-4c5a-b17b-660a903f8f59",
   "metadata": {},
   "outputs": [],
   "source": [
    "for col in ['NUM_EST', 'LIQ_6_TARJETA', 'LIQ_4_TARJETA']:\n",
    "    df_fd[col] = df_fd[col].astype(str).str.strip()"
   ]
  },
  {
   "cell_type": "code",
   "execution_count": 10,
   "id": "a3a2bd6e-84c3-4350-afd8-b29b0034d8fc",
   "metadata": {},
   "outputs": [],
   "source": [
    "df_reconciled = df_dota.merge(\n",
    "    df_fd,\n",
    "    how='inner',\n",
    "    left_on=[\n",
    "        'GTWT_MERCHANT_NUMBER',\n",
    "        'CARD_SIX_FIRST_DIGITS',\n",
    "        'CARD_FOUR_LAST_DIGITS',\n",
    "        'MOV_CREATION_DATE',\n",
    "        'MOV_AMOUNT'\n",
    "    ],\n",
    "    right_on=[\n",
    "        'NUM_EST',\n",
    "        'LIQ_6_TARJETA',\n",
    "        'LIQ_4_TARJETA',\n",
    "        'FORIG_COMPRA',\n",
    "        'IMPORTE'\n",
    "    ]\n",
    ")\n"
   ]
  },
  {
   "cell_type": "code",
   "execution_count": 13,
   "id": "2cea64ea-22b8-4d86-b1cf-4f3dd0069976",
   "metadata": {},
   "outputs": [],
   "source": [
    "total_dota_txns = len(df_dota)\n",
    "total_fd_txns = len(df_fd)"
   ]
  },
  {
   "cell_type": "code",
   "execution_count": 14,
   "id": "6a5a0990-02a8-4d4a-a1e1-a6f8d864353c",
   "metadata": {},
   "outputs": [],
   "source": [
    "reconciled_count = len(df_reconciled)"
   ]
  },
  {
   "cell_type": "code",
   "execution_count": 15,
   "id": "3af41086-f347-47a0-aa5c-01c040b33212",
   "metadata": {},
   "outputs": [],
   "source": [
    "unreconciled_df = df_dota.merge(\n",
    "    df_reconciled,\n",
    "    how='outer',\n",
    "    indicator=True\n",
    ").query('_merge == \"left_only\"').drop(columns=['_merge'])\n",
    "\n",
    "unreconciled_count = len(unreconciled_df)"
   ]
  },
  {
   "cell_type": "code",
   "execution_count": 16,
   "id": "122ca911-177a-4372-a32b-2bade68d71cc",
   "metadata": {},
   "outputs": [],
   "source": [
    "reconciled_amt = df_reconciled['MOV_AMOUNT'].sum()\n",
    "unreconciled_amt = unreconciled_df['MOV_AMOUNT'].sum()"
   ]
  },
  {
   "cell_type": "code",
   "execution_count": 17,
   "id": "2cb74ef9-b648-470e-a300-aaf9c4321e2d",
   "metadata": {},
   "outputs": [],
   "source": [
    "recon_pct_count = (reconciled_count / total_dota_txns) * 100\n",
    "recon_pct_amt = (reconciled_amt / df_dota['MOV_AMOUNT'].sum()) * 100"
   ]
  },
  {
   "cell_type": "code",
   "execution_count": 18,
   "id": "01d76a77-f9fe-4762-9f9a-1ee50ed4a3f6",
   "metadata": {},
   "outputs": [
    {
     "name": "stdout",
     "output_type": "stream",
     "text": [
      " Total Reconciled Transactions: 0\n",
      " Total Unreconciled Transactions: 56152\n",
      " Reconciled Amount: 0.00\n",
      " Unreconciled Amount: 138311587.38\n",
      " Reconciliation Rate (Count): 0.00%\n",
      " Reconciliation Rate (Amount): 0.00%\n"
     ]
    }
   ],
   "source": [
    "print(f\" Total Reconciled Transactions: {reconciled_count}\")\n",
    "print(f\" Total Unreconciled Transactions: {unreconciled_count}\")\n",
    "print(f\" Reconciled Amount: {reconciled_amt:.2f}\")\n",
    "print(f\" Unreconciled Amount: {unreconciled_amt:.2f}\")\n",
    "print(f\" Reconciliation Rate (Count): {recon_pct_count:.2f}%\")\n",
    "print(f\" Reconciliation Rate (Amount): {recon_pct_amt:.2f}%\")\n"
   ]
  },
  {
   "cell_type": "code",
   "execution_count": 19,
   "id": "4e84b1fb-ee25-4f48-a571-d67a685483ed",
   "metadata": {},
   "outputs": [],
   "source": [
    " \n",
    "summary_data = {\n",
    "    \"Metric\": [\n",
    "        \"Total DB DOTA Transactions\",\n",
    "        \"Total FD Report Transactions\",\n",
    "        \"Reconciled Transactions\",\n",
    "        \"Unreconciled Transactions\",\n",
    "        \"Reconciled Amount\",\n",
    "        \"Unreconciled Amount\",\n",
    "        \"Reconciliation Rate (Count)\",\n",
    "        \"Reconciliation Rate (Amount)\"\n",
    "    ],\n",
    "    \"Value\": [\n",
    "        total_dota_txns,\n",
    "        total_fd_txns,\n",
    "        reconciled_count,\n",
    "        unreconciled_count,\n",
    "        round(reconciled_amt, 2),\n",
    "        round(unreconciled_amt, 2),\n",
    "        f\"{recon_pct_count:.2f}%\",\n",
    "        f\"{recon_pct_amt:.2f}%\"\n",
    "    ]\n",
    "}\n",
    "\n",
    "# Convert to DataFrame\n",
    "df_summary = pd.DataFrame(summary_data)\n",
    "\n",
    "# Export to Excel (new sheet)\n",
    "with pd.ExcelWriter(\"Reconciliation_Report.xlsx\", engine='openpyxl', mode='w') as writer:\n",
    "    df_reconciled.to_excel(writer, sheet_name=\"Reconciled\", index=False)\n",
    "    unreconciled_df.to_excel(writer, sheet_name=\"Unreconciled\", index=False)\n",
    "    df_summary.to_excel(writer, sheet_name=\"Reconciliation_Summary\", index=False)\n"
   ]
  },
  {
   "cell_type": "code",
   "execution_count": 27,
   "id": "4b2950ed-2a15-475f-9fd9-85ef95785283",
   "metadata": {},
   "outputs": [],
   "source": [
    "df_merged_commission = df_fd.merge(\n",
    "    df_dota[['GTWT_MERCHANT_NUMBER', 'CARD_SIX_FIRST_DIGITS', 'CARD_FOUR_LAST_DIGITS',\n",
    "             'MOV_CREATION_DATE', 'MOV_AMOUNT', 'PAY_COLLECTOR_DOCUMENT']],\n",
    "    how='inner',\n",
    "    left_on=['NUM_EST', 'LIQ_6_TARJETA', 'LIQ_4_TARJETA', 'FORIG_COMPRA', 'IMPORTE'],\n",
    "    right_on=['GTWT_MERCHANT_NUMBER', 'CARD_SIX_FIRST_DIGITS', 'CARD_FOUR_LAST_DIGITS', \n",
    "              'MOV_CREATION_DATE', 'MOV_AMOUNT']\n",
    ")\n"
   ]
  },
  {
   "cell_type": "code",
   "execution_count": 28,
   "id": "39e41560-336c-4c49-92fb-968a529841ec",
   "metadata": {},
   "outputs": [],
   "source": [
    "# Convert strings and remove whitespace\n",
    "for col in ['GTWT_MERCHANT_NUMBER', 'CARD_SIX_FIRST_DIGITS', 'CARD_FOUR_LAST_DIGITS']:\n",
    "    df_dota[col] = df_dota[col].astype(str).str.strip()\n",
    "for col in ['NUM_EST', 'LIQ_6_TARJETA', 'LIQ_4_TARJETA']:\n",
    "    df_fd[col] = df_fd[col].astype(str).str.strip()\n",
    "\n",
    "# Dates to consistent format\n",
    "df_dota['MOV_CREATION_DATE'] = pd.to_datetime(df_dota['MOV_CREATION_DATE']).dt.date\n",
    "df_fd['FORIG_COMPRA'] = pd.to_datetime(df_fd['FORIG_COMPRA']).dt.date\n",
    "\n",
    "# Amounts to float and round to 2 decimals\n",
    "df_dota['MOV_AMOUNT'] = df_dota['MOV_AMOUNT'].astype(float).round(2)\n",
    "df_fd['IMPORTE'] = df_fd['IMPORTE'].astype(float).round(2)\n"
   ]
  },
  {
   "cell_type": "code",
   "execution_count": 29,
   "id": "d10e807c-48e7-49af-9449-c8b1c9fbf5c2",
   "metadata": {},
   "outputs": [
    {
     "name": "stdout",
     "output_type": "stream",
     "text": [
      "Merged rows: 0\n"
     ]
    }
   ],
   "source": [
    "df_merged_commission = df_fd.merge(\n",
    "    df_dota[['GTWT_MERCHANT_NUMBER', 'CARD_SIX_FIRST_DIGITS', 'CARD_FOUR_LAST_DIGITS',\n",
    "             'MOV_CREATION_DATE', 'MOV_AMOUNT', 'PAY_COLLECTOR_DOCUMENT']],\n",
    "    how='inner',\n",
    "    left_on=['NUM_EST', 'LIQ_6_TARJETA', 'LIQ_4_TARJETA', 'FORIG_COMPRA', 'IMPORTE'],\n",
    "    right_on=['GTWT_MERCHANT_NUMBER', 'CARD_SIX_FIRST_DIGITS', 'CARD_FOUR_LAST_DIGITS', \n",
    "              'MOV_CREATION_DATE', 'MOV_AMOUNT']\n",
    ")\n",
    "\n",
    "print(\"Merged rows:\", len(df_merged_commission))\n"
   ]
  },
  {
   "cell_type": "code",
   "execution_count": 30,
   "id": "7a3b61ed-54ec-41ed-8c53-d082f3912a65",
   "metadata": {},
   "outputs": [
    {
     "name": "stdout",
     "output_type": "stream",
     "text": [
      "_merge\n",
      "right_only    56152\n",
      "left_only     33421\n",
      "both              0\n",
      "Name: count, dtype: int64\n"
     ]
    }
   ],
   "source": [
    "test_merge = df_fd.merge(\n",
    "    df_dota,\n",
    "    how='outer',\n",
    "    left_on=['NUM_EST', 'LIQ_6_TARJETA', 'LIQ_4_TARJETA', 'FORIG_COMPRA', 'IMPORTE'],\n",
    "    right_on=['GTWT_MERCHANT_NUMBER', 'CARD_SIX_FIRST_DIGITS', 'CARD_FOUR_LAST_DIGITS', \n",
    "              'MOV_CREATION_DATE', 'MOV_AMOUNT'],\n",
    "    indicator=True\n",
    ")\n",
    "\n",
    "print(test_merge['_merge'].value_counts())"
   ]
  },
  {
   "cell_type": "code",
   "execution_count": null,
   "id": "ec9a2d1c-530a-4253-ac96-7bfd11175b78",
   "metadata": {},
   "outputs": [],
   "source": []
  }
 ],
 "metadata": {
  "kernelspec": {
   "display_name": "Python 3 (ipykernel)",
   "language": "python",
   "name": "python3"
  },
  "language_info": {
   "codemirror_mode": {
    "name": "ipython",
    "version": 3
   },
   "file_extension": ".py",
   "mimetype": "text/x-python",
   "name": "python",
   "nbconvert_exporter": "python",
   "pygments_lexer": "ipython3",
   "version": "3.12.1"
  }
 },
 "nbformat": 4,
 "nbformat_minor": 5
}
